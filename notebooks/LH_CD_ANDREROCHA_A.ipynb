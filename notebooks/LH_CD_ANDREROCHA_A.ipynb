{
 "cells": [
  {
   "cell_type": "markdown",
   "metadata": {},
   "source": [
    "# **Desafio Cientista de Dados - Indicium LightHouse**"
   ]
  },
  {
   "cell_type": "markdown",
   "metadata": {},
   "source": [
    "Fui alocado em um time da Indicium que está trabalhando atualmente junto a um cliente no processo de criação de uma plataforma de aluguéis temporários na cidade de Nova York. Para o desenvolvimento de sua estratégia de precificação, pediu para que a Indicium fizesse uma análise exploratória dos dados de seu maior concorrente, assim como um teste de validação de um modelo preditivo.\n",
    "\n",
    "Seu objetivo é desenvolver um modelo de previsão de preços a partir do dataset oferecido, e avaliar tal modelo utilizando as métricas de avaliação que mais fazem sentido para o problema.\n",
    "\n",
    "<br>\n",
    "\n",
    "**Tópicos neste notebook:**\n",
    "\n",
    "1 - Data Description\n",
    "\n",
    "2 - Feature Engineering\n",
    "\n",
    "3 - Salvando dataset"
   ]
  },
  {
   "cell_type": "markdown",
   "metadata": {},
   "source": [
    "# 0.0 Imports"
   ]
  },
  {
   "cell_type": "code",
   "execution_count": 1,
   "metadata": {},
   "outputs": [],
   "source": [
    "import pandas as pd\n",
    "import numpy as np\n",
    "import math\n",
    "import re\n",
    "\n",
    "from IPython.display         import Image, display\n",
    "from sklearn.model_selection import train_test_split\n",
    "\n",
    "import warnings\n",
    "warnings.filterwarnings('ignore', category=DeprecationWarning)\n",
    "warnings.filterwarnings('ignore', category=FutureWarning)\n",
    "warnings.filterwarnings('ignore', category=UserWarning)\n",
    "warnings.filterwarnings('ignore')"
   ]
  },
  {
   "cell_type": "markdown",
   "metadata": {},
   "source": [
    "## 0.1 Helper Function"
   ]
  },
  {
   "cell_type": "code",
   "execution_count": 2,
   "metadata": {},
   "outputs": [],
   "source": [
    "# Configurações Gerais\n",
    "# pd.set_option('display.max_rows', None)\n",
    "pd.set_option('display.max_columns', None)\n",
    "pd.set_option('display.float_format', '{:.2f}'.format)\n",
    "plt.rcParams['figure.figsize'] = [20, 10]"
   ]
  },
  {
   "cell_type": "markdown",
   "metadata": {},
   "source": [
    "## 0.2 Loading data"
   ]
  },
  {
   "cell_type": "code",
   "execution_count": 3,
   "metadata": {},
   "outputs": [],
   "source": [
    "# Dataset\n",
    "df_raw = pd.read_csv('../datasets/raw_datasets/teste_indicium_precificacao.csv', low_memory = False)"
   ]
  },
  {
   "cell_type": "markdown",
   "metadata": {},
   "source": [
    "## 0.3 Splitting dataset"
   ]
  },
  {
   "cell_type": "markdown",
   "metadata": {},
   "source": [
    "Antes de iniciar o projeto com o dataset, é importante separar os dados que recebemos em treino e teste por boa prática.\n",
    "\n",
    "Resumidamente, sobre os datasets,\n",
    "\n",
    "- **Treino:** será utilizado para fazer as análises (EDA) e treinar os algoritmos de machine learning (o cross validation é feito utilizando esse dataset, que é dividido em k folds...).\n",
    "\n",
    "- **Teste:** será utilizado para verificação da performance do modelo após o treino. Recebe os mesmos tratamentos que o dataset de treino recebeu e na parte de pré-processamento rescaling/encoding, recebe apenas o transform, evitando vazamento de dados."
   ]
  },
  {
   "cell_type": "code",
   "execution_count": 4,
   "metadata": {},
   "outputs": [],
   "source": [
    "# Separando features/target\n",
    "X = df_raw.drop('price', axis=1)\n",
    "y = df_raw['price'].copy()\n",
    "\n",
    "# Split Train/Test\n",
    "x_train, x_test, y_train, y_test = train_test_split(X, y, test_size=0.2, random_state=42)\n",
    "\n",
    "# TREINO\n",
    "df0 = pd.concat([x_train, y_train], axis=1)\n",
    "df0 = df0.reset_index(drop=True)\n",
    "\n",
    "# TESTE - Salvando para usar em ML.\n",
    "df_test_raw = pd.concat([x_test, y_test], axis=1)\n",
    "df_test_raw = df_test_raw.reset_index(drop=True)\n",
    "df_test_raw.to_csv('../datasets/raw_datasets/test_raw_from_split_train.csv', index=False)"
   ]
  },
  {
   "cell_type": "markdown",
   "metadata": {},
   "source": [
    "# **1.0 Data Description**"
   ]
  },
  {
   "cell_type": "code",
   "execution_count": 5,
   "metadata": {},
   "outputs": [],
   "source": [
    "df1 = df0.copy()"
   ]
  },
  {
   "cell_type": "markdown",
   "metadata": {},
   "source": [
    "| COLUNA                         | DESCRIÇÃO                                                                             |\n",
    "|--------------------------------|---------------------------------------------------------------------------------------|\n",
    "| id                             | Atua como uma chave exclusiva para cada anúncio nos dados do aplicativo                |\n",
    "| nome                           | Representa o nome do anúncio                                                         |\n",
    "| host_id                        | Representa o id do usuário que hospedou o anúncio                                     |\n",
    "| host_name                      | Contém o nome do usuário que hospedou o anúncio                                       |\n",
    "| bairro_group                   | Contém o nome do bairro onde o anúncio está localizado                                |\n",
    "| bairro                         | Contém o nome da área onde o anúncio está localizado                                  |\n",
    "| latitude                       | Contém a latitude do local                                                           |\n",
    "| longitude                      | Contém a longitude do local                                                          |\n",
    "| room_type                      | Contém o tipo de espaço de cada anúncio                                               |\n",
    "| price                          | Contém o preço por noite em dólares listado pelo anfitrião                            |\n",
    "| minimo_noites                  | Contém o número mínimo de noites que o usuário deve reservar                          |\n",
    "| numero_de_reviews              | Contém o número de comentários dados a cada listagem                                   |\n",
    "| ultima_review                  | Contém a data da última revisão dada à listagem                                        |\n",
    "| reviews_por_mes                | Contém o número de avaliações fornecidas por mês                                       |\n",
    "| calculado_host_listings_count  | Contém a quantidade de listagem por host                                               |\n",
    "| disponibilidade_365            | Contém o número de dias em que o anúncio está disponível para reserva                   |\n"
   ]
  },
  {
   "cell_type": "markdown",
   "metadata": {},
   "source": [
    "## 1.1 Rename Columns"
   ]
  },
  {
   "cell_type": "code",
   "execution_count": 6,
   "metadata": {},
   "outputs": [],
   "source": [
    "df1.columns\n",
    "df1['bairro_group'].unique()\n",
    "df1.rename(columns={'bairro_group': 'distrito', 'calculado_host_listings_count': 'host_total_listings'}, inplace=True)"
   ]
  },
  {
   "cell_type": "markdown",
   "metadata": {},
   "source": [
    "## 1.2 Data Dimension"
   ]
  },
  {
   "cell_type": "code",
   "execution_count": 7,
   "metadata": {},
   "outputs": [
    {
     "name": "stdout",
     "output_type": "stream",
     "text": [
      "Number of Rows: 39115\n",
      "Number of Cols: 16\n"
     ]
    }
   ],
   "source": [
    "# Printando linhas/colunas\n",
    "print('Number of Rows: {}'.format(df1.shape[0]))\n",
    "print('Number of Cols: {}'.format(df1.shape[1]))\n",
    "\n",
    "# Para estas dimensões do dataset, podemos continuar sem a necessidade de uma Cloud para o processamento dos dados."
   ]
  },
  {
   "cell_type": "markdown",
   "metadata": {},
   "source": [
    "## 1.3 Data Types"
   ]
  },
  {
   "cell_type": "code",
   "execution_count": 8,
   "metadata": {},
   "outputs": [
    {
     "data": {
      "text/plain": [
       "id                       int64\n",
       "nome                    object\n",
       "host_id                  int64\n",
       "host_name               object\n",
       "distrito                object\n",
       "bairro                  object\n",
       "latitude               float64\n",
       "longitude              float64\n",
       "room_type               object\n",
       "minimo_noites            int64\n",
       "numero_de_reviews        int64\n",
       "ultima_review           object\n",
       "reviews_por_mes        float64\n",
       "host_total_listings      int64\n",
       "disponibilidade_365      int64\n",
       "price                    int64\n",
       "dtype: object"
      ]
     },
     "execution_count": 8,
     "metadata": {},
     "output_type": "execute_result"
    }
   ],
   "source": [
    "df1.dtypes"
   ]
  },
  {
   "cell_type": "markdown",
   "metadata": {},
   "source": [
    "## 1.4. Check NA"
   ]
  },
  {
   "cell_type": "code",
   "execution_count": 9,
   "metadata": {},
   "outputs": [
    {
     "data": {
      "text/plain": [
       "id                        0\n",
       "nome                     10\n",
       "host_id                   0\n",
       "host_name                19\n",
       "distrito                  0\n",
       "bairro                    0\n",
       "latitude                  0\n",
       "longitude                 0\n",
       "room_type                 0\n",
       "minimo_noites             0\n",
       "numero_de_reviews         0\n",
       "ultima_review          8070\n",
       "reviews_por_mes        8070\n",
       "host_total_listings       0\n",
       "disponibilidade_365       0\n",
       "price                     0\n",
       "dtype: int64"
      ]
     },
     "execution_count": 9,
     "metadata": {},
     "output_type": "execute_result"
    }
   ],
   "source": [
    "'''\n",
    "Existem 3 opções para tratar os NAs\n",
    "\n",
    "1- Descartar linhas com valores ausentes (NA):\n",
    "    Vantagem: rápido e fácil.\n",
    "    Desvantagem (significativa): Pode levar à perda de informações importantes e prejudicar a performance do modelo se o conjunto de dados for pequeno.\n",
    "\n",
    "2- Utilizar algoritmos de Machine Learning:\n",
    "    Existem métodos para preencher valores ausentes (NA) que se baseiam no comportamento das colunas.\n",
    "    Podemos utilizar métodos estatísticos como a média ou mediana, ou algorimos de Machine Learning para prever valores ausentes.\n",
    "    Essa técnica é útil quando não se tem informações de negócio.\n",
    "\n",
    "3- Entender a lógica de negócio:\n",
    "    Compreendendo a lógica de negócio, é possível identificar o motivo dos valores ausentes e estabelecer regras para preenchê-los.  \n",
    "\n",
    "Utilizarei a opção 3 para preencher os valores faltantes (NA) no próximo tópico.\n",
    "'''\n",
    "\n",
    "df1.isna().sum()"
   ]
  },
  {
   "cell_type": "markdown",
   "metadata": {},
   "source": [
    "## 1.5 Fillout NA"
   ]
  },
  {
   "cell_type": "code",
   "execution_count": 10,
   "metadata": {},
   "outputs": [
    {
     "data": {
      "text/plain": [
       "id                     0\n",
       "nome                   0\n",
       "host_id                0\n",
       "host_name              0\n",
       "distrito               0\n",
       "bairro                 0\n",
       "latitude               0\n",
       "longitude              0\n",
       "room_type              0\n",
       "minimo_noites          0\n",
       "numero_de_reviews      0\n",
       "ultima_review          0\n",
       "reviews_por_mes        0\n",
       "host_total_listings    0\n",
       "disponibilidade_365    0\n",
       "price                  0\n",
       "dtype: int64"
      ]
     },
     "execution_count": 10,
     "metadata": {},
     "output_type": "execute_result"
    }
   ],
   "source": [
    "# Coluna host_name preencida com NI (Não informado)\n",
    "df1['host_name'] = df1['host_name'].fillna('NI')\n",
    "\n",
    "# Coluna nome preencida com NI (Não informado)\n",
    "df1['nome'] = df1['nome'].fillna('NI')\n",
    "\n",
    "# Coluna ultima_review preenchida com data muito no passado/futuro\n",
    "df1['ultima_review'] = df1['ultima_review'].fillna('1900-01-01')\n",
    "\n",
    "# Coluna reviews_por_mes preenchida com 0 - (pelo visto, é a média das reviews, mas por mês, resultando em valores decimais)\n",
    "# Se Nan, adicionei 0, pois não possui review alguma, nota-se a coluna ultima_review com a mesma quantidade de NAN.\n",
    "df1['reviews_por_mes'] = df1['reviews_por_mes'].fillna(0)\n",
    "\n",
    "# Verificação da remoção dos NaN\n",
    "df1.isna().sum()\n",
    "\n",
    "#2019-01-03"
   ]
  },
  {
   "cell_type": "markdown",
   "metadata": {},
   "source": [
    "## 1.6 Change Types"
   ]
  },
  {
   "cell_type": "code",
   "execution_count": 11,
   "metadata": {},
   "outputs": [
    {
     "data": {
      "text/plain": [
       "id                              int64\n",
       "nome                           object\n",
       "host_id                         int64\n",
       "host_name                      object\n",
       "distrito                       object\n",
       "bairro                         object\n",
       "latitude                      float64\n",
       "longitude                     float64\n",
       "room_type                      object\n",
       "minimo_noites                   int64\n",
       "numero_de_reviews               int64\n",
       "ultima_review          datetime64[ns]\n",
       "reviews_por_mes               float64\n",
       "host_total_listings             int64\n",
       "disponibilidade_365             int64\n",
       "price                           int64\n",
       "dtype: object"
      ]
     },
     "execution_count": 11,
     "metadata": {},
     "output_type": "execute_result"
    }
   ],
   "source": [
    "# Verificando os tipos de dados novamente após as alterações feitas no tópico 1.5, por boa prática.  \n",
    "df1.dtypes\n",
    "\n",
    "# Covertendo para data\n",
    "df1['ultima_review'] = pd.to_datetime(df1['ultima_review'])\n",
    "df1.dtypes"
   ]
  },
  {
   "cell_type": "markdown",
   "metadata": {},
   "source": [
    "## 1.7 Removendo Duplicadas"
   ]
  },
  {
   "cell_type": "code",
   "execution_count": 12,
   "metadata": {},
   "outputs": [
    {
     "name": "stdout",
     "output_type": "stream",
     "text": [
      "Número de linhas duplicadas: 0\n"
     ]
    }
   ],
   "source": [
    "# Supondo que 'df' seja o seu DataFrame\n",
    "num_duplicatas = df1.duplicated().sum()\n",
    "print(\"Número de linhas duplicadas:\", num_duplicatas)"
   ]
  },
  {
   "cell_type": "markdown",
   "metadata": {},
   "source": [
    "## 1.8 Estatística Descritiva (Primeira impressão dos dados)"
   ]
  },
  {
   "cell_type": "code",
   "execution_count": 13,
   "metadata": {},
   "outputs": [],
   "source": [
    "'''\n",
    "Utilidade da estatística descritiva aqui:\n",
    "\n",
    "1- Ganhar conhecimento de negócio.\n",
    "\n",
    "2- Conseguir detectar alguns erros.\n",
    "    Exemplo: preços com valores negativos.\n",
    "'''\n",
    "\n",
    "# Separando variáveis numéricas e categóricas \n",
    "num_attributes = df1.select_dtypes(include=['int64','float64'])\n",
    "cat_attributes = df1.select_dtypes(exclude=['int64','float64','datetime64[ns]'])"
   ]
  },
  {
   "cell_type": "markdown",
   "metadata": {},
   "source": [
    "### 1.8.1 Vars Numéricas"
   ]
  },
  {
   "cell_type": "code",
   "execution_count": 14,
   "metadata": {},
   "outputs": [
    {
     "data": {
      "text/html": [
       "<div>\n",
       "<style scoped>\n",
       "    .dataframe tbody tr th:only-of-type {\n",
       "        vertical-align: middle;\n",
       "    }\n",
       "\n",
       "    .dataframe tbody tr th {\n",
       "        vertical-align: top;\n",
       "    }\n",
       "\n",
       "    .dataframe thead th {\n",
       "        text-align: right;\n",
       "    }\n",
       "</style>\n",
       "<table border=\"1\" class=\"dataframe\">\n",
       "  <thead>\n",
       "    <tr style=\"text-align: right;\">\n",
       "      <th></th>\n",
       "      <th>mean</th>\n",
       "      <th>std</th>\n",
       "      <th>min</th>\n",
       "      <th>25%</th>\n",
       "      <th>50%</th>\n",
       "      <th>75%</th>\n",
       "      <th>max</th>\n",
       "      <th>Range</th>\n",
       "      <th>Skew</th>\n",
       "      <th>Kurtosis</th>\n",
       "    </tr>\n",
       "  </thead>\n",
       "  <tbody>\n",
       "    <tr>\n",
       "      <th>latitude</th>\n",
       "      <td>40.73</td>\n",
       "      <td>0.05</td>\n",
       "      <td>40.50</td>\n",
       "      <td>40.69</td>\n",
       "      <td>40.72</td>\n",
       "      <td>40.76</td>\n",
       "      <td>40.91</td>\n",
       "      <td>0.41</td>\n",
       "      <td>0.23</td>\n",
       "      <td>0.13</td>\n",
       "    </tr>\n",
       "    <tr>\n",
       "      <th>longitude</th>\n",
       "      <td>-73.95</td>\n",
       "      <td>0.05</td>\n",
       "      <td>-74.24</td>\n",
       "      <td>-73.98</td>\n",
       "      <td>-73.96</td>\n",
       "      <td>-73.94</td>\n",
       "      <td>-73.71</td>\n",
       "      <td>0.53</td>\n",
       "      <td>1.29</td>\n",
       "      <td>5.09</td>\n",
       "    </tr>\n",
       "    <tr>\n",
       "      <th>minimo_noites</th>\n",
       "      <td>7.03</td>\n",
       "      <td>19.99</td>\n",
       "      <td>1.00</td>\n",
       "      <td>1.00</td>\n",
       "      <td>3.00</td>\n",
       "      <td>5.00</td>\n",
       "      <td>1000.00</td>\n",
       "      <td>999.00</td>\n",
       "      <td>20.66</td>\n",
       "      <td>756.07</td>\n",
       "    </tr>\n",
       "    <tr>\n",
       "      <th>numero_de_reviews</th>\n",
       "      <td>23.26</td>\n",
       "      <td>44.43</td>\n",
       "      <td>0.00</td>\n",
       "      <td>1.00</td>\n",
       "      <td>5.00</td>\n",
       "      <td>24.00</td>\n",
       "      <td>629.00</td>\n",
       "      <td>629.00</td>\n",
       "      <td>3.69</td>\n",
       "      <td>19.70</td>\n",
       "    </tr>\n",
       "    <tr>\n",
       "      <th>reviews_por_mes</th>\n",
       "      <td>1.09</td>\n",
       "      <td>1.60</td>\n",
       "      <td>0.00</td>\n",
       "      <td>0.04</td>\n",
       "      <td>0.37</td>\n",
       "      <td>1.59</td>\n",
       "      <td>58.50</td>\n",
       "      <td>58.50</td>\n",
       "      <td>3.53</td>\n",
       "      <td>51.95</td>\n",
       "    </tr>\n",
       "    <tr>\n",
       "      <th>host_total_listings</th>\n",
       "      <td>7.11</td>\n",
       "      <td>32.77</td>\n",
       "      <td>1.00</td>\n",
       "      <td>1.00</td>\n",
       "      <td>1.00</td>\n",
       "      <td>2.00</td>\n",
       "      <td>327.00</td>\n",
       "      <td>326.00</td>\n",
       "      <td>7.96</td>\n",
       "      <td>68.04</td>\n",
       "    </tr>\n",
       "    <tr>\n",
       "      <th>disponibilidade_365</th>\n",
       "      <td>112.93</td>\n",
       "      <td>131.73</td>\n",
       "      <td>0.00</td>\n",
       "      <td>0.00</td>\n",
       "      <td>45.00</td>\n",
       "      <td>227.00</td>\n",
       "      <td>365.00</td>\n",
       "      <td>365.00</td>\n",
       "      <td>0.76</td>\n",
       "      <td>-1.00</td>\n",
       "    </tr>\n",
       "    <tr>\n",
       "      <th>price</th>\n",
       "      <td>153.77</td>\n",
       "      <td>244.16</td>\n",
       "      <td>0.00</td>\n",
       "      <td>69.00</td>\n",
       "      <td>106.00</td>\n",
       "      <td>176.00</td>\n",
       "      <td>10000.00</td>\n",
       "      <td>10000.00</td>\n",
       "      <td>18.21</td>\n",
       "      <td>528.58</td>\n",
       "    </tr>\n",
       "  </tbody>\n",
       "</table>\n",
       "</div>"
      ],
      "text/plain": [
       "                      mean    std    min    25%    50%    75%      max  \\\n",
       "latitude             40.73   0.05  40.50  40.69  40.72  40.76    40.91   \n",
       "longitude           -73.95   0.05 -74.24 -73.98 -73.96 -73.94   -73.71   \n",
       "minimo_noites         7.03  19.99   1.00   1.00   3.00   5.00  1000.00   \n",
       "numero_de_reviews    23.26  44.43   0.00   1.00   5.00  24.00   629.00   \n",
       "reviews_por_mes       1.09   1.60   0.00   0.04   0.37   1.59    58.50   \n",
       "host_total_listings   7.11  32.77   1.00   1.00   1.00   2.00   327.00   \n",
       "disponibilidade_365 112.93 131.73   0.00   0.00  45.00 227.00   365.00   \n",
       "price               153.77 244.16   0.00  69.00 106.00 176.00 10000.00   \n",
       "\n",
       "                       Range  Skew  Kurtosis  \n",
       "latitude                0.41  0.23      0.13  \n",
       "longitude               0.53  1.29      5.09  \n",
       "minimo_noites         999.00 20.66    756.07  \n",
       "numero_de_reviews     629.00  3.69     19.70  \n",
       "reviews_por_mes        58.50  3.53     51.95  \n",
       "host_total_listings   326.00  7.96     68.04  \n",
       "disponibilidade_365   365.00  0.76     -1.00  \n",
       "price               10000.00 18.21    528.58  "
      ]
     },
     "execution_count": 14,
     "metadata": {},
     "output_type": "execute_result"
    }
   ],
   "source": [
    "# Criando tabela de estatística descritiva\n",
    "aux1 = num_attributes.describe().T\n",
    "\n",
    "# Complementando a tabela do .describe()\n",
    "funcoes = ['min', 'max', 'ptp', 'skew', 'kurt']\n",
    "\n",
    "# Usei agg() para aplicar todas essas funções de uma vez\n",
    "aux2 = num_attributes.agg(funcoes).T\n",
    "aux2.columns = ['Min', 'Max', 'Range', 'Skew', 'Kurtosis']\n",
    "aux2\n",
    "\n",
    "# Concatenando os datasets para melhor visualização\n",
    "stats_table = pd.concat([aux1, aux2], axis=1)\n",
    "stats_table = stats_table.drop(['count', 'Max', 'Min'], axis=1)\n",
    "stats_table = stats_table.drop(['id', 'host_id'], axis=0)\n",
    "stats_table"
   ]
  },
  {
   "cell_type": "markdown",
   "metadata": {},
   "source": [
    "Na tabela, nota-se uma incoerencia, existe valor mínimo 0 no preço, o que não faz sentido. Logo abaixo, indetifico que são apenas 9 valores zerados, então decide removê-los, uma vez que o dataset possui 39115 linhas, não fará diferença. Achei essa atitude melhor, pois eu poderia usar a média da coluna preço para preenhcer esses valores zerados, mas eu poderia, talvez, criar imóveis com preços de alugueis distorcidos, o que poderia prejudicar meu modelo de machine learning."
   ]
  },
  {
   "cell_type": "code",
   "execution_count": 15,
   "metadata": {},
   "outputs": [
    {
     "name": "stdout",
     "output_type": "stream",
     "text": [
      "Total de preços zerados: 9 removidos\n"
     ]
    }
   ],
   "source": [
    "# Identificando total de linhas com preço zero\n",
    "price_0 = df1[df1['price'] == 0].shape[0]\n",
    "print(f'Total de preços zerados: {price_0} removidos')\n",
    "\n",
    "# Removedo colunas de preço 0\n",
    "df1 = df1[df1['price'] != 0]\n",
    "df1 = df1.reset_index(drop=True)"
   ]
  },
  {
   "cell_type": "markdown",
   "metadata": {},
   "source": [
    "### 1.8.2 Vars Categóricas"
   ]
  },
  {
   "cell_type": "code",
   "execution_count": 16,
   "metadata": {},
   "outputs": [
    {
     "data": {
      "text/plain": [
       "nome         38444\n",
       "host_name    10029\n",
       "distrito         5\n",
       "bairro         218\n",
       "room_type        3\n",
       "dtype: int64"
      ]
     },
     "execution_count": 16,
     "metadata": {},
     "output_type": "execute_result"
    }
   ],
   "source": [
    "# Verificando a quantidade de valores únicos de cada coluna categórica\n",
    "cat_unicos = cat_attributes.apply(lambda x: x.unique().shape[0])\n",
    "cat_unicos"
   ]
  },
  {
   "cell_type": "code",
   "execution_count": 17,
   "metadata": {},
   "outputs": [
    {
     "data": {
      "text/plain": [
       "distrito\n",
       "Manhattan       0.45\n",
       "Brooklyn        0.41\n",
       "Queens          0.12\n",
       "Bronx           0.02\n",
       "Staten Island   0.01\n",
       "Name: proportion, dtype: float64"
      ]
     },
     "execution_count": 17,
     "metadata": {},
     "output_type": "execute_result"
    }
   ],
   "source": [
    "# Porcentagem dos distritos em relação ao dataset, Manhattan está presente em 45% do dataset\n",
    "df1['distrito'].value_counts(normalize=True).head()"
   ]
  },
  {
   "cell_type": "code",
   "execution_count": 18,
   "metadata": {},
   "outputs": [
    {
     "data": {
      "text/plain": [
       "bairro\n",
       "Williamsburg                 0.08\n",
       "Bedford-Stuyvesant           0.08\n",
       "Harlem                       0.05\n",
       "Bushwick                     0.05\n",
       "Upper West Side              0.04\n",
       "                             ... \n",
       "Woodrow                      0.00\n",
       "Bay Terrace, Staten Island   0.00\n",
       "West Farms                   0.00\n",
       "Rossville                    0.00\n",
       "Richmondtown                 0.00\n",
       "Name: proportion, Length: 218, dtype: float64"
      ]
     },
     "execution_count": 18,
     "metadata": {},
     "output_type": "execute_result"
    }
   ],
   "source": [
    "# Porcentagem dos bairros em relação ao dataset\n",
    "df1['bairro'].value_counts(normalize=True)"
   ]
  },
  {
   "cell_type": "code",
   "execution_count": 19,
   "metadata": {},
   "outputs": [
    {
     "data": {
      "text/plain": [
       "room_type\n",
       "Entire home/apt   0.52\n",
       "Private room      0.46\n",
       "Shared room       0.02\n",
       "Name: proportion, dtype: float64"
      ]
     },
     "execution_count": 19,
     "metadata": {},
     "output_type": "execute_result"
    }
   ],
   "source": [
    "# Porcentagem dos tipos de quartos/salas em relação ao dataset\n",
    "df1['room_type'].value_counts(normalize=True).head()"
   ]
  },
  {
   "cell_type": "markdown",
   "metadata": {},
   "source": [
    "# **2.0 Feature Engineering**"
   ]
  },
  {
   "cell_type": "markdown",
   "metadata": {},
   "source": [
    "Feature engineering é o processo de criar/transformar variáveis para melhorar o desempenho dos modelos de machine learning. Isso é feito para ajudar os algoritmos de aprendizado de máquina a entenderem melhor os padrões nos dados, tornando as características mais significativas e relevantes para o problema em questão. O objetivo é melhorar a precisão, a generalização e a performance dos modelos de machine learning."
   ]
  },
  {
   "cell_type": "code",
   "execution_count": 20,
   "metadata": {},
   "outputs": [],
   "source": [
    "df2 = df1.copy()"
   ]
  },
  {
   "cell_type": "markdown",
   "metadata": {},
   "source": [
    "## **2.1 MindMap de Hipóteses**"
   ]
  },
  {
   "cell_type": "markdown",
   "metadata": {},
   "source": [
    "O Mindmap de Hipóteses nos ajuda a criar hipóteses sobre o fenômeno estudado. Tais hipóteses geradas serão investigadas na EDA (Análise Exploratória de Dados).\n",
    "\n",
    "Na imagem abaixo encontra-se o Mindmap de hipóteses, onde ao centro, o 'Preço do Aluguel Temporário' é o fenômeno a ser investigado e está rodeado por suas entidades, seguidas por seus atributos."
   ]
  },
  {
   "cell_type": "code",
   "execution_count": 21,
   "metadata": {},
   "outputs": [
    {
     "data": {
      "image/png": "[encoded data removed]",
      "text/plain": [
       "<IPython.core.display.Image object>"
      ]
     },
     "execution_count": 21,
     "metadata": {},
     "output_type": "execute_result"
    }
   ],
   "source": [
    "Image('../images/mindmap.png')"
   ]
  },
  {
   "cell_type": "markdown",
   "metadata": {},
   "source": [
    "NOTA: No cotidiano de uma empresa, as etapas iniciais são compostas por:\n",
    "\n",
    "1- Investigação individual: Nesta fase, eu, como profissional responsável pelo projeto, realizo investigações e análises preliminares, criando incialmente meu próprio mindmap.\n",
    "\n",
    "2- Após a investigação inicial, compartilho minhas descobertas com a área de negócio, onde os stakeholders avaliam e contribuem com suas perspectivas e ideias.\n",
    "\n",
    "3- Com base nas ideias reunidas tanto por mim quanto pela área de negócio, a equipe técnica e de análise de dados entra em ação. Juntos, verificamos quais dados estão disponíveis no banco de dados para implementar as ideias discutidas anteriormente.\n",
    "\n",
    "Obs.: Os atributos com asterisco não estão presentes no dataset, mas é interessante investigar, pois pode contribuir para entender mais sobre o problema de negócio e talvez melhorar a performance do modelo de machine learning."
   ]
  },
  {
   "cell_type": "markdown",
   "metadata": {},
   "source": [
    "## **2.2 Criação de Hipóteses**"
   ]
  },
  {
   "cell_type": "markdown",
   "metadata": {},
   "source": [
    "### 2.2.1 Hipóteses sobre o Imóvel"
   ]
  },
  {
   "cell_type": "markdown",
   "metadata": {},
   "source": [
    "**1.** Aluguéis de espaço inteiro ('Entire home/apt') possuem preços maiores.\n",
    "\n",
    "**2.** Imóveis com maiores diponibilidade em dias, possuem preços menores.\n",
    "\n",
    "**3.** Um 'mínimo de noites' para reserva de 1 dia, possui preços menores dentre os mínimos 7, 15 e 30 dias.\n",
    "\n",
    "**4.** Imóveis com mais reviews, possuem preços menores.\n",
    "\n",
    "**5.** Imóveis com as maiores reviews por mês, possuem preços menores."
   ]
  },
  {
   "cell_type": "markdown",
   "metadata": {},
   "source": [
    "### 2.2.2 Hipóteses sobre Localização"
   ]
  },
  {
   "cell_type": "markdown",
   "metadata": {},
   "source": [
    "**1.** Aluguéis em Manhattan possuem o maior preço dentre os distritos de New York.\n",
    "\n",
    "**2.** Imóveis com localização próxima ao mar, possuem preços mais caros."
   ]
  },
  {
   "cell_type": "markdown",
   "metadata": {},
   "source": [
    "### 2.2.3 Hipóteses do Host"
   ]
  },
  {
   "cell_type": "markdown",
   "metadata": {},
   "source": [
    "**1.** Hosts que possuem mais imóveis, possuem um preço maior."
   ]
  },
  {
   "cell_type": "markdown",
   "metadata": {},
   "source": [
    "----"
   ]
  },
  {
   "cell_type": "markdown",
   "metadata": {},
   "source": [
    "## **2.3 Lista Final de Hipóteses**"
   ]
  },
  {
   "cell_type": "markdown",
   "metadata": {},
   "source": [
    "**1.** Aluguéis de espaço inteiro ('Entire home/apt') possuem preços maiores.\n",
    "\n",
    "**2.** Imóveis com maiores disponibilidade em dias, possuem preços menores.\n",
    "\n",
    "**3.**  Um 'mínimo de noites' para reserva de 1 dia, possui preços menores dentre os mínimos 7, 15 e 30 dias.\n",
    "\n",
    "**4.** Imóveis com mais reviews, possuem preços menores.\n",
    "\n",
    "**5.** Imóveis com as maiores reviews por mês, possuem preços menores.\n",
    "\n",
    "**6.** Aluguéis em Manhattan possuem o maior preço dentre os distritos de New York.\n",
    "\n",
    "**7.** Imóveis com localização próxima ao mar, possuem preços mais caros.\n",
    "\n",
    "**8.** Hosts que possuem mais imóveis, possuem um preço maior."
   ]
  },
  {
   "cell_type": "markdown",
   "metadata": {},
   "source": [
    "## **2.4 Feature Engineering**"
   ]
  },
  {
   "cell_type": "code",
   "execution_count": 22,
   "metadata": {},
   "outputs": [],
   "source": [
    "# FEATURE: ano, mês, dia \n",
    "# Objetivo: verificar se há sazonalidades nos meses, anos e dias.\n",
    "df2['ano'] = df2['ultima_review'].dt.year\n",
    "df2['mes'] = df2['ultima_review'].dt.month\n",
    "df2['dia'] = df2['ultima_review'].dt.day\n",
    "\n",
    "\n",
    "# FEATURE: recencia das reviews \n",
    "# Objetivo: verificar quantos dias se passaram desde a última review (quanto maior o valor de dias, pior, considerando que, se houve review, é porque ocorreu uma hospedagem/negócio)\n",
    "# Nota: Valores na 'dias_desde_ultima_review' de 43652 referem-se as datas de 1900-01-01, utilizadas para o preenchimento de NAN na coluna 'ultima_review'.\n",
    "ultima_data = df2['ultima_review'].max()\n",
    "df2['dias_desde_ultima_review'] = (ultima_data - df2['ultima_review']).dt.days\n",
    "\n",
    "\n",
    "# FEATURE: quantidade possível máxima de se alugar o imóvel por ano, considerando apenas o mínimo de noites\n",
    "# Objetivo: identificar a flexibilidade de aluguel do imóvel\n",
    "# Nota: se o mínimo de noites for maior 365 dias, só pode ser alugado uma vez por ano ou menos. \n",
    "df2['qnt_alug_possiv_por_ano'] =  365 / df2['minimo_noites'] \n",
    "\n",
    "\n",
    "# FEATURE: desempenho do quão requisitado foi o imóvel durante o ano\n",
    "# Objetivo: verificar o desempenho através da disponibilidade_365 (dias restantes)\n",
    "# Nota: quanto mais próximo de zero, melhor para o imóvel, pois mostra que foi bem requisitado, talvez influenciando no preço. \n",
    "#       Por exemplo: 365 dias do ano - 65 dias disponiveis = 300 dias alugados, logo o imóvel foi bem requisitado.\n",
    "df2['dias_alugados'] = df2['disponibilidade_365'].apply(lambda x: (365 - x) if x > 0 and x <= 364 else x) # else x, para casos como, disponibilidade365 = 365 ou 0.\n",
    "\n",
    "\n",
    "# FEATURE: peso dos preços dos distritos\n",
    "# Objetivo: identificar distritos mais caros\n",
    "# Nota: Ordenei a feature de acordo com os valores das medianas vistas no boxplot da hipótese 6.\n",
    "mapeamento_distrito_peso = {\n",
    "    'Bronx': 1,\n",
    "    'Queens': 2,\n",
    "    'Staten Island': 3,\n",
    "    'Brooklyn': 4,\n",
    "    'Manhattan': 5}\n",
    "\n",
    "df2['distrito_peso'] = df2['distrito'].map(mapeamento_distrito_peso)"
   ]
  },
  {
   "cell_type": "markdown",
   "metadata": {},
   "source": [
    "Uma boa feature pode melhorar consideravelmente o desempenho do modelo. Boas features aumentam mais a performance do modelo do que técnicas de Fine Tuning (mas este também é importante, desenvolverei no tópico 8)."
   ]
  },
  {
   "cell_type": "markdown",
   "metadata": {},
   "source": [
    "# **3.0 Salvando dataset**"
   ]
  },
  {
   "cell_type": "code",
   "execution_count": 23,
   "metadata": {},
   "outputs": [],
   "source": [
    "df2.to_csv('../datasets/cooked_datasets/df3_processed.csv', index=False)"
   ]
  }
 ],
 "metadata": {
  "kernelspec": {
   "display_name": "indicium_teste",
   "language": "python",
   "name": "python3"
  },
  "language_info": {
   "codemirror_mode": {
    "name": "ipython",
    "version": 3
   },
   "file_extension": ".py",
   "mimetype": "text/x-python",
   "name": "python",
   "nbconvert_exporter": "python",
   "pygments_lexer": "ipython3",
   "version": "3.10.13"
  }
 },
 "nbformat": 4,
 "nbformat_minor": 2
}
